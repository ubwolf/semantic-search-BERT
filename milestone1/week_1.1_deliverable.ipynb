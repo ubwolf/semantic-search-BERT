{
 "cells": [
  {
   "cell_type": "code",
   "execution_count": 1,
   "metadata": {},
   "outputs": [
    {
     "name": "stderr",
     "output_type": "stream",
     "text": [
      "Some weights of the model checkpoint at distilbert-base-uncased were not used when initializing DistilBertModel: ['vocab_projector.weight', 'vocab_layer_norm.weight', 'vocab_transform.weight', 'vocab_layer_norm.bias', 'vocab_projector.bias', 'vocab_transform.bias']\n",
      "- This IS expected if you are initializing DistilBertModel from the checkpoint of a model trained on another task or with another architecture (e.g. initializing a BertForSequenceClassification model from a BertForPreTraining model).\n",
      "- This IS NOT expected if you are initializing DistilBertModel from the checkpoint of a model that you expect to be exactly identical (initializing a BertForSequenceClassification model from a BertForSequenceClassification model).\n"
     ]
    },
    {
     "name": "stdout",
     "output_type": "stream",
     "text": [
      "[('As of 2018, approximately 37.9 million people are infected with HIV globally.', 20.992712), ('Current pandemics include COVID-19 (SARS-CoV-2) and HIV/AIDS.', 20.251728), ('Cholera is an infection of the small intestine by some strains of the bacterium Vibrio cholerae.', 19.224836), ('Common symptoms of COVID-19 include fever, cough, fatigue, breathing difficulties, and loss of smell.', 18.865395), ('A pandemic is an epidemic of an infectious disease that has spread across a large region, for instance multiple continents or worldwide, affecting a substantial number of people.', 17.826128)]\n"
     ]
    }
   ],
   "source": [
    "import faiss\n",
    "import json\n",
    "import numpy as np\n",
    "import torch\n",
    "\n",
    "from transformers import AutoModel, AutoTokenizer\n",
    "from pprint import pprint\n",
    "\n",
    "\n",
    "class DataLoader:\n",
    "\n",
    "    def __init__(self, path):\n",
    "        self.path = path\n",
    "\n",
    "\n",
    "    def load_data(self):\n",
    "        with open(self.path, 'r') as file:\n",
    "            data = json.load(file)\n",
    "        return data\n",
    "\n",
    "\n",
    "    def save_data(self, data ,save_path):\n",
    "        with open(save_path, 'w') as file:\n",
    "            json.dump(data, file)\n",
    "\n",
    "\n",
    "class TransformerEncoder:\n",
    "\n",
    "    def __init__(self, text_document, model_type):#, input_shape=768):\n",
    "        self.data = text_document\n",
    "        self.tokenizer = AutoTokenizer.from_pretrained(model_type)\n",
    "        self.model = AutoModel.from_pretrained(model_type)\n",
    "        # self.index = faiss.IndexIDMap(faiss.IndexFlatIP(input_shape))\n",
    "\n",
    "\n",
    "    def text_encoder(self):\n",
    "        embeds = [self.model(**self.tokenizer(doc, return_tensors='pt'))[0].detach().squeeze() for doc in self.data]\n",
    "        return [torch.mean(embed, dim=0) for embed in embeds]\n",
    "\n",
    "    \n",
    "    def query_encoder(self, query):\n",
    "        query_tokens = self.tokenizer(query, return_tensors='pt', padding=True)\n",
    "        embed = self.model(**query_tokens)[0]#.detach()\n",
    "        return torch.mean(embed, dim=0)\n",
    "\n",
    "    \n",
    "    def search(self, query, index, k=5):\n",
    "        encoded_query = self.query_encoder(query).detach().numpy()\n",
    "        I, D = index.search(encoded_query, k)\n",
    "        return [(self.data[i], j) for i, j in zip(D[0], I[0])]\n",
    "\n",
    "\n",
    "if __name__ == '__main__':\n",
    "    data = DataLoader('./data/sentences.json').load_data()\n",
    "\n",
    "    encoder = TransformerEncoder(data, 'distilbert-base-uncased')\n",
    "    vectors = encoder.text_encoder()\n",
    "    index = faiss.IndexIDMap(faiss.IndexFlatIP(768))\n",
    "    index.add_with_ids(np.array([vec.numpy() for vec in vectors]), np.array(range(0, len(data))))\n",
    "\n",
    "    query = 'How to prevent the spread of viral infections?'\n",
    "    result = encoder.search(query, index)\n",
    "    print(result)"
   ]
  }
 ],
 "metadata": {
  "interpreter": {
   "hash": "92b3875b50552a19f5c8b904a9bd9455a012f7f4a6644b61f5845177f2c2dbee"
  },
  "kernelspec": {
   "display_name": "Python 3.8.10 ('semantic_searchenv': venv)",
   "language": "python",
   "name": "python3"
  },
  "language_info": {
   "codemirror_mode": {
    "name": "ipython",
    "version": 3
   },
   "file_extension": ".py",
   "mimetype": "text/x-python",
   "name": "python",
   "nbconvert_exporter": "python",
   "pygments_lexer": "ipython3",
   "version": "3.8.10"
  },
  "orig_nbformat": 4
 },
 "nbformat": 4,
 "nbformat_minor": 2
}
