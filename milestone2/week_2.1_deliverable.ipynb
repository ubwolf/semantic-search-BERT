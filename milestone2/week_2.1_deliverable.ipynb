{
 "cells": [
  {
   "cell_type": "code",
   "execution_count": 55,
   "metadata": {},
   "outputs": [
    {
     "data": {
      "application/vnd.jupyter.widget-view+json": {
       "model_id": "5f60bc62bfc14b5ea807ded3d0c7ca01",
       "version_major": 2,
       "version_minor": 0
      },
      "text/plain": [
       "Batches:   0%|          | 0/1 [00:00<?, ?it/s]"
      ]
     },
     "metadata": {},
     "output_type": "display_data"
    },
    {
     "data": {
      "application/vnd.jupyter.widget-view+json": {
       "model_id": "15c48fe0c1744eb985376aac963dfb75",
       "version_major": 2,
       "version_minor": 0
      },
      "text/plain": [
       "Batches:   0%|          | 0/1 [00:00<?, ?it/s]"
      ]
     },
     "metadata": {},
     "output_type": "display_data"
    },
    {
     "name": "stdout",
     "output_type": "stream",
     "text": [
      "[('Swine influenza', 89.7691), ('Targeted immunization strategies', 78.84313), ('Pandemic prevention', 71.77255), ('HIV/AIDS', 67.6545), ('PREDICT (USAID)', 61.000816)]\n"
     ]
    }
   ],
   "source": [
    "import faiss\n",
    "import json \n",
    "import numpy as np\n",
    "import torch\n",
    "from sentence_transformers import SentenceTransformer\n",
    "\n",
    "\n",
    "class DataLoader:\n",
    "\n",
    "    def __init__(self, path):\n",
    "        self.path = path\n",
    "\n",
    "\n",
    "    def load_data(self):\n",
    "        with open(self.path, 'r') as file:\n",
    "            data = json.load(file)\n",
    "        return data\n",
    "\n",
    "\n",
    "    def save_data(self, data ,save_path):\n",
    "        with open(save_path, 'w') as file:\n",
    "            json.dump(data, file)\n",
    "\n",
    "\n",
    "class SentenceEncoder:\n",
    "\n",
    "    def __init__(self, text_data, model_name):\n",
    "        self.data = text_data\n",
    "        self.model = SentenceTransformer(model_name)\n",
    "        self.device = 'cuda' if torch.cuda.is_available() else 'cpu'\n",
    "        self.encoder = self.model.to(self.device)\n",
    "\n",
    "\n",
    "    def encode_text(self, text):\n",
    "        embeddings = self.encoder.encode(text, convert_to_tensor=True, show_progress_bar=True)\n",
    "        return embeddings\n",
    "\n",
    "    \n",
    "    def search(self, query, index, k=5):\n",
    "        query_encoded = self.encode_text([query]).cpu().detach().numpy()\n",
    "        D, I = index.search(query_encoded, k)\n",
    "        results = [self.data[_id]['title'] for _id in I[0]]\n",
    "        return list(zip(results, D[0]))\n",
    "\n",
    "\n",
    "if __name__ == '__main__':\n",
    "    data = DataLoader('../data_hub/data_2.json').load_data()\n",
    "    enc = SentenceEncoder(data, 'distilbert-base-nli-stsb-mean-tokens')\n",
    "\n",
    "    text_corpus = [i['text'] for i in data]\n",
    "    text_embeddings = enc.encode_text(text_corpus)\n",
    "    text_embeddings = text_embeddings.cpu()\n",
    "\n",
    "    index = faiss.IndexIDMap(faiss.IndexFlatIP(text_embeddings.shape[1]))\n",
    "    index.add_with_ids(text_embeddings.numpy(), np.array(range(0, len(text_corpus))))\n",
    "    faiss.write_index(index, '../data_hub/faiss.index')\n",
    "\n",
    "    q = \"Which diseases can be transmitted by animals?\"\n",
    "    results = enc.search(q, index)\n",
    "    print(results)"
   ]
  }
 ],
 "metadata": {
  "interpreter": {
   "hash": "92b3875b50552a19f5c8b904a9bd9455a012f7f4a6644b61f5845177f2c2dbee"
  },
  "kernelspec": {
   "display_name": "Python 3.8.10 ('semantic_searchenv': venv)",
   "language": "python",
   "name": "python3"
  },
  "language_info": {
   "codemirror_mode": {
    "name": "ipython",
    "version": 3
   },
   "file_extension": ".py",
   "mimetype": "text/x-python",
   "name": "python",
   "nbconvert_exporter": "python",
   "pygments_lexer": "ipython3",
   "version": "3.8.10"
  },
  "orig_nbformat": 4
 },
 "nbformat": 4,
 "nbformat_minor": 2
}
